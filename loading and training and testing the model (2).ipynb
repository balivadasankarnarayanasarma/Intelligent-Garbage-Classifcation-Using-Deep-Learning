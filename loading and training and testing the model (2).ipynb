{
 "cells": [
  {
   "cell_type": "code",
   "execution_count": 1,
   "id": "cd9b0cff",
   "metadata": {},
   "outputs": [],
   "source": [
    "from tensorflow.keras.models import load_model\n",
    "loaded_model = load_model(\"garbage_collection_model.h5\")"
   ]
  },
  {
   "cell_type": "code",
   "execution_count": 4,
   "id": "6c908310",
   "metadata": {},
   "outputs": [
    {
     "name": "stdout",
     "output_type": "stream",
     "text": [
      "1/1 [==============================] - 1s 562ms/step\n",
      "Predicted class: glass\n"
     ]
    }
   ],
   "source": [
    "from tensorflow.keras.models import load_model\n",
    "from tensorflow.keras.preprocessing.image import load_img, img_to_array\n",
    "import numpy as np\n",
    "\n",
    "# Load the trained model\n",
    "model = load_model(\"garbage_collection_model.h5\")\n",
    "\n",
    "# Function to preprocess the input image\n",
    "def preprocess_image(image_path):\n",
    "    img = load_img(image_path, target_size=(128, 128))\n",
    "    img_array = img_to_array(img)\n",
    "    img_array = img_array.reshape((1, 128, 128, 3))\n",
    "    img_array = img_array / 255.0\n",
    "    return img_array\n",
    "\n",
    "# Function to get the class name from the prediction\n",
    "def get_class_name(prediction):\n",
    "    class_names = [\"cardboard\", \"glass\", \"metal\", \"paper\", \"plastic\", \"trash\"]\n",
    "    class_index = np.argmax(prediction)\n",
    "    return class_names[class_index]\n",
    "\n",
    "# Test the model on a new image\n",
    "image_path = r\"C:\\Users\\baliv\\Desktop\\garbage collection\\Dataset\\test\\glass\\glass371 (2).jpg\"\n",
    "input_image = preprocess_image(image_path)\n",
    "prediction = model.predict(input_image)\n",
    "class_name = get_class_name(prediction)\n",
    "\n",
    "print(\"Predicted class:\", class_name)"
   ]
  },
  {
   "cell_type": "code",
   "execution_count": 5,
   "id": "b5ffbf0d",
   "metadata": {},
   "outputs": [],
   "source": [
    "from tensorflow.keras.models import load_model\n",
    "loaded_model = load_model(\"garbage_collection_model.h5\")"
   ]
  },
  {
   "cell_type": "code",
   "execution_count": 8,
   "id": "b8889fde",
   "metadata": {},
   "outputs": [
    {
     "name": "stdout",
     "output_type": "stream",
     "text": [
      "1/1 [==============================] - 0s 484ms/step\n",
      "Predicted class: cardboard\n"
     ]
    }
   ],
   "source": [
    "from tensorflow.keras.models import load_model\n",
    "from tensorflow.keras.preprocessing.image import load_img, img_to_array\n",
    "import numpy as np\n",
    "\n",
    "# Load the trained model\n",
    "model = load_model(\"garbage_collection_model.h5\")\n",
    "\n",
    "# Function to preprocess the input image\n",
    "def preprocess_image(image_path):\n",
    "    img = load_img(image_path, target_size=(128, 128))\n",
    "    img_array = img_to_array(img)\n",
    "    img_array = img_array.reshape((1, 128, 128, 3))\n",
    "    img_array = img_array / 255.0\n",
    "    return img_array\n",
    "\n",
    "# Function to get the class name from the prediction\n",
    "def get_class_name(prediction):\n",
    "    class_names = [\"cardboard\", \"glass\", \"metal\", \"paper\", \"plastic\", \"trash\"]\n",
    "    class_index = np.argmax(prediction)\n",
    "    return class_names[class_index]\n",
    "\n",
    "# Test the model on a new image\n",
    "image_path = r\"C:\\Users\\baliv\\Desktop\\garbage collection\\Dataset\\test\\cardboard\\cardboard2.jpg\"\n",
    "input_image = preprocess_image(image_path)\n",
    "prediction = model.predict(input_image)\n",
    "class_name = get_class_name(prediction)\n",
    "\n",
    "print(\"Predicted class:\", class_name)"
   ]
  },
  {
   "cell_type": "code",
   "execution_count": 9,
   "id": "a562bbe3",
   "metadata": {},
   "outputs": [],
   "source": [
    "from tensorflow.keras.models import load_model\n",
    "loaded_model = load_model(\"garbage_collection_model.h5\")"
   ]
  },
  {
   "cell_type": "code",
   "execution_count": 10,
   "id": "41885ad3",
   "metadata": {},
   "outputs": [
    {
     "name": "stdout",
     "output_type": "stream",
     "text": [
      "1/1 [==============================] - 1s 605ms/step\n",
      "Predicted class: trash\n"
     ]
    }
   ],
   "source": [
    "from tensorflow.keras.models import load_model\n",
    "from tensorflow.keras.preprocessing.image import load_img, img_to_array\n",
    "import numpy as np\n",
    "\n",
    "# Load the trained model\n",
    "model = load_model(\"garbage_collection_model.h5\")\n",
    "\n",
    "# Function to preprocess the input image\n",
    "def preprocess_image(image_path):\n",
    "    img = load_img(image_path, target_size=(128, 128))\n",
    "    img_array = img_to_array(img)\n",
    "    img_array = img_array.reshape((1, 128, 128, 3))\n",
    "    img_array = img_array / 255.0\n",
    "    return img_array\n",
    "\n",
    "# Function to get the class name from the prediction\n",
    "def get_class_name(prediction):\n",
    "    class_names = [\"cardboard\", \"glass\", \"metal\", \"paper\", \"plastic\", \"trash\"]\n",
    "    class_index = np.argmax(prediction)\n",
    "    return class_names[class_index]\n",
    "\n",
    "# Test the model on a new image\n",
    "image_path = r\"C:\\Users\\baliv\\Desktop\\garbage collection\\Dataset\\test\\trash\\trash25.jpg\"\n",
    "input_image = preprocess_image(image_path)\n",
    "prediction = model.predict(input_image)\n",
    "class_name = get_class_name(prediction)\n",
    "\n",
    "print(\"Predicted class:\", class_name)"
   ]
  },
  {
   "cell_type": "code",
   "execution_count": 12,
   "id": "2f138981",
   "metadata": {},
   "outputs": [],
   "source": [
    "from tensorflow.keras.models import load_model\n",
    "loaded_model = load_model(\"garbage_collection_model.h5\")"
   ]
  },
  {
   "cell_type": "code",
   "execution_count": 14,
   "id": "e40633fb",
   "metadata": {},
   "outputs": [
    {
     "name": "stdout",
     "output_type": "stream",
     "text": [
      "1/1 [==============================] - 1s 587ms/step\n",
      "Predicted class: plastic\n"
     ]
    }
   ],
   "source": [
    "from tensorflow.keras.models import load_model\n",
    "from tensorflow.keras.preprocessing.image import load_img, img_to_array\n",
    "import numpy as np\n",
    "\n",
    "# Load the trained model\n",
    "model = load_model(\"garbage_collection_model.h5\")\n",
    "\n",
    "# Function to preprocess the input image\n",
    "def preprocess_image(image_path):\n",
    "    img = load_img(image_path, target_size=(128, 128))\n",
    "    img_array = img_to_array(img)\n",
    "    img_array = img_array.reshape((1, 128, 128, 3))\n",
    "    img_array = img_array / 255.0\n",
    "    return img_array\n",
    "\n",
    "# Function to get the class name from the prediction\n",
    "def get_class_name(prediction):\n",
    "    class_names = [\"cardboard\", \"glass\", \"metal\", \"paper\", \"plastic\", \"trash\"]\n",
    "    class_index = np.argmax(prediction)\n",
    "    return class_names[class_index]\n",
    "\n",
    "# Test the model on a new image\n",
    "image_path = r\"C:\\Users\\baliv\\Desktop\\garbage collection\\Dataset\\test\\plastic\\plastic294 (2).jpg\"\n",
    "input_image = preprocess_image(image_path)\n",
    "prediction = model.predict(input_image)\n",
    "class_name = get_class_name(prediction)\n",
    "\n",
    "print(\"Predicted class:\", class_name)"
   ]
  },
  {
   "cell_type": "code",
   "execution_count": 15,
   "id": "25688b0f",
   "metadata": {},
   "outputs": [],
   "source": [
    "from tensorflow.keras.models import load_model\n",
    "loaded_model = load_model(\"garbage_collection_model.h5\")"
   ]
  },
  {
   "cell_type": "code",
   "execution_count": 17,
   "id": "877ed8fc",
   "metadata": {},
   "outputs": [
    {
     "name": "stdout",
     "output_type": "stream",
     "text": [
      "WARNING:tensorflow:5 out of the last 5 calls to <function Model.make_predict_function.<locals>.predict_function at 0x000001BA1CC0F430> triggered tf.function retracing. Tracing is expensive and the excessive number of tracings could be due to (1) creating @tf.function repeatedly in a loop, (2) passing tensors with different shapes, (3) passing Python objects instead of tensors. For (1), please define your @tf.function outside of the loop. For (2), @tf.function has reduce_retracing=True option that can avoid unnecessary retracing. For (3), please refer to https://www.tensorflow.org/guide/function#controlling_retracing and https://www.tensorflow.org/api_docs/python/tf/function for  more details.\n",
      "1/1 [==============================] - 0s 472ms/step\n",
      "Predicted class: metal\n"
     ]
    }
   ],
   "source": [
    "from tensorflow.keras.models import load_model\n",
    "from tensorflow.keras.preprocessing.image import load_img, img_to_array\n",
    "import numpy as np\n",
    "\n",
    "# Load the trained model\n",
    "model = load_model(\"garbage_collection_model.h5\")\n",
    "\n",
    "# Function to preprocess the input image\n",
    "def preprocess_image(image_path):\n",
    "    img = load_img(image_path, target_size=(128, 128))\n",
    "    img_array = img_to_array(img)\n",
    "    img_array = img_array.reshape((1, 128, 128, 3))\n",
    "    img_array = img_array / 255.0\n",
    "    return img_array\n",
    "\n",
    "# Function to get the class name from the prediction\n",
    "def get_class_name(prediction):\n",
    "    class_names = [\"cardboard\", \"glass\", \"metal\", \"paper\", \"plastic\", \"trash\"]\n",
    "    class_index = np.argmax(prediction)\n",
    "    return class_names[class_index]\n",
    "\n",
    "# Test the model on a new image\n",
    "image_path = r\"C:\\Users\\baliv\\Desktop\\garbage collection\\Dataset\\test\\paper\\paper304.jpg\"\n",
    "input_image = preprocess_image(image_path)\n",
    "prediction = model.predict(input_image)\n",
    "class_name = get_class_name(prediction)\n",
    "\n",
    "print(\"Predicted class:\", class_name)"
   ]
  },
  {
   "cell_type": "code",
   "execution_count": null,
   "id": "8d010a4a",
   "metadata": {},
   "outputs": [],
   "source": []
  }
 ],
 "metadata": {
  "kernelspec": {
   "display_name": "Python 3 (ipykernel)",
   "language": "python",
   "name": "python3"
  },
  "language_info": {
   "codemirror_mode": {
    "name": "ipython",
    "version": 3
   },
   "file_extension": ".py",
   "mimetype": "text/x-python",
   "name": "python",
   "nbconvert_exporter": "python",
   "pygments_lexer": "ipython3",
   "version": "3.9.13"
  }
 },
 "nbformat": 4,
 "nbformat_minor": 5
}
